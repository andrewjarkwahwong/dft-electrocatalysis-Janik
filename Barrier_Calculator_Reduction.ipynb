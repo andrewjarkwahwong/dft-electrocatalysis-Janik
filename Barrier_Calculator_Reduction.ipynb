{
 "cells": [
  {
   "cell_type": "markdown",
   "id": "ea1a77ae",
   "metadata": {},
   "source": [
    "# About the code\n",
    "\"Text about the code and its usage\""
   ]
  },
  {
   "cell_type": "markdown",
   "id": "ec3cda7d",
   "metadata": {},
   "source": [
    "# Packages"
   ]
  },
  {
   "cell_type": "code",
   "execution_count": 1,
   "id": "e1ad727c",
   "metadata": {
    "scrolled": true
   },
   "outputs": [
    {
     "name": "stdout",
     "output_type": "stream",
     "text": [
      "Requirement already satisfied: pysimplegui in c:\\users\\drew wong\\anaconda3\\lib\\site-packages (4.60.5)\n",
      "Note: you may need to restart the kernel to use updated packages.\n"
     ]
    }
   ],
   "source": [
    "pip install pysimplegui\n"
   ]
  },
  {
   "cell_type": "code",
   "execution_count": 2,
   "id": "cfb62e46",
   "metadata": {},
   "outputs": [],
   "source": [
    "import PySimpleGUI as sg\n",
    "import ipywidgets \n",
    "import numpy as np\n",
    "import matplotlib.pyplot as plt\n",
    "from tabulate import tabulate as tb\n",
    "import pandas as pd"
   ]
  },
  {
   "cell_type": "markdown",
   "id": "3c33e5f5",
   "metadata": {},
   "source": [
    "# Data Entry via gui"
   ]
  },
  {
   "cell_type": "code",
   "execution_count": 3,
   "id": "eb2a58c2",
   "metadata": {},
   "outputs": [],
   "source": [
    "\n",
    "# Define the layout for the window\n",
    "sg.theme('Default1')      # Add some color to the window\n",
    "layout = [\n",
    "    [sg.Text('Inputs to Analyze Sensitivity of EDL Model', size=(50, 1), justification='center', font=('Helvetica', 20,'bold'))],\n",
    "    [sg.Column([\n",
    "        [sg.Text('Initial State', size=(26, 1), font=('Helvetica', 12, 'bold'))],\n",
    "        [sg.Text('Free Energy (eV)', size=(26, 1)), sg.InputText(size=(25, 1))],\n",
    "        [sg.Text('Dipole Moment', size=(26, 1)), sg.InputText(size=(25, 1))],\n",
    "        [sg.Text('Polarizability', size=(26, 1)), sg.InputText(size=(25, 1))],\n",
    "        [sg.Text('Bare Surface Parameters', size=(26, 1), font=('Helvetica', 12, 'bold'))],\n",
    "        [sg.Text('Volume of the Cell (A^3)', size=(26, 1)), sg.InputText(size=(25, 1))],\n",
    "        [sg.Text('Height of the Cell (A)', size=(26, 1)), sg.InputText(size=(25, 1))],\n",
    "        [sg.Text('Fermi Energy (eV)', size=(26, 1)), sg.InputText(size=(25, 1))],\n",
    "        [sg.Text('Vacuum Potential (eV)', size=(26, 1)), sg.InputText(size=(25, 1))],\n",
    "        [sg.Text('Bare Metal Polarizability (eV)', size=(26, 1)), sg.InputText(size=(25, 1))],\n",
    "        [sg.Text('Potential Range of Interest', size=(26, 1), font=('Helvetica', 12, 'bold'))],\n",
    "        [sg.Text('Lower Limit  (V-NHE)', size=(26, 1)), sg.InputText(size=(25, 1))],\n",
    "        [sg.Text('Upper Limit (V-NHE)', size=(26, 1)), sg.InputText(size=(25, 1))],\n",
    "    ]), sg.VerticalSeparator(pad=((20, 20), (10, 10))), \n",
    "     sg.Column([\n",
    "        [sg.Text('Final State', size=(26, 1), font=('Helvetica', 12, 'bold'))],\n",
    "        [sg.Text('Free Energy (eV)', size=(26, 1)), sg.InputText(size=(25, 1))],\n",
    "        [sg.Text('Dipole Moment', size=(26, 1)), sg.InputText(size=(25, 1))],\n",
    "        [sg.Text('Polarizability', size=(26, 1)), sg.InputText(size=(25, 1))],\n",
    "        [sg.Text('EDL Model Parameters', size=(26, 1), font=('Helvetica', 12, 'bold'))],\n",
    "        [sg.Text('Relative Permittivity', size=(26, 1)), sg.InputText(size=(25, 1))],\n",
    "        [sg.Text('Width of the EDL (A)', size=(26, 1)), sg.InputText(size=(25, 1))],\n",
    "        [sg.Text('Vacuum to NHE (V-NHE)', size=(26, 1)), sg.InputText(size=(25, 1))],\n",
    "        [sg.Text('Solvation Free Energy Change (eV)', size=(26, 1)), sg.InputText(size=(25, 1))],\n",
    "         [sg.Button('Submit', size=(40, 3), button_color=('white', 'blue'), pad=(70, 30))]\n",
    "         ,])],\n",
    "    \n",
    "    \n",
    "]\n",
    "\n",
    "# Create the window\n",
    "window = sg.Window('Window Title', layout, size=(900, 450),element_justification='c')\n",
    "# Event loop to process events and get input\n",
    "while True:\n",
    "    event, values = window.read()\n",
    "    if event == sg.WINDOW_CLOSED or event == 'Submit':\n",
    "        break\n",
    "\n",
    "# Close the window\n",
    "window.close()\n"
   ]
  },
  {
   "cell_type": "markdown",
   "id": "d7931bba",
   "metadata": {},
   "source": [
    "# Data Processing"
   ]
  },
  {
   "cell_type": "code",
   "execution_count": 4,
   "id": "f58f1220",
   "metadata": {},
   "outputs": [],
   "source": [
    "# Input stored as a dictionary and converted to floats (Last three indexes are boolean)\n",
    "for index in range(18):\n",
    "    if index != 10:\n",
    "        values[index] = float(values[index])\n",
    "\n",
    "polar_bare = values[7]\n",
    "       \n",
    "# Initial\n",
    "e_in = values[0]\n",
    "dm_in = values[1]\n",
    "polar_in = values[2]-polar_bare\n",
    "\n",
    "# Cell Parameters\n",
    "v = values[3]\n",
    "h = values[4]\n",
    "e_fermi = values[5]\n",
    "u_vac = values[6]\n",
    "\n",
    "u_low = values[8]\n",
    "u_high = values[9]\n",
    "\n",
    "# Final\n",
    "e_fin = values[11]\n",
    "dm_fin = values[12]\n",
    "polar_fin = values[13]-polar_bare\n",
    "\n",
    "# EDL Model Parameters\n",
    "er = values[14]\n",
    "d = values[15]\n",
    "vac_nhe = values[16]\n",
    "g_solv = values[17]\n"
   ]
  },
  {
   "cell_type": "code",
   "execution_count": 5,
   "id": "9e408ed3",
   "metadata": {},
   "outputs": [],
   "source": [
    "#Dipole moment and Polarizability Changes\n",
    "diff_dm = dm_fin - dm_in\n",
    "diff_polar = polar_fin - polar_in\n",
    "\n",
    "#Constants for the cell\n",
    "a=v/h # area of the slab (A^2)\n",
    "wf_bare = u_vac-e_fermi #Work function of the bare metal surface\n",
    "u_pzc = wf_bare - vac_nhe #Potential of zero charge of the bare surface\n",
    "\n",
    "#Constants related to EDL model\n",
    "e_vac = 0.00553 #vacuum permittivity\n",
    "e=er*e_vac #complex permittivity\n",
    "\n",
    "u = np.linspace(u_low,u_high,25)\n",
    "u_prime = u - u_pzc\n"
   ]
  },
  {
   "cell_type": "markdown",
   "id": "09a19519",
   "metadata": {},
   "source": [
    "# Sensitivity Analysis due to EDL Complexities"
   ]
  },
  {
   "cell_type": "code",
   "execution_count": 6,
   "id": "abf69eab",
   "metadata": {
    "scrolled": true
   },
   "outputs": [],
   "source": [
    "# Model 1A: Free Energy Change at U_PZC\n",
    "g_1a = e_fin - e_in + g_solv + wf_bare - vac_nhe\n",
    "\n",
    "# Model 1B: Potenital dependent Free Energy Change assuming Beta = 1 (Full e- transfer)\n",
    "g_1b = g_1a+u_prime\n"
   ]
  },
  {
   "cell_type": "code",
   "execution_count": 7,
   "id": "31a465d6",
   "metadata": {
    "scrolled": true
   },
   "outputs": [],
   "source": [
    "#Model 2A: Incorporate Capacitance Charge\n",
    "C = er*a*e_vac/d # Predicted Capacitiance by Helmholtz Model\n",
    "diff_dm_sq = (dm_fin ** 2 - dm_in ** 2) \n",
    "# 0th order capacitance\n",
    "C_0 = -0.5 * (diff_dm_sq) / (C * d ** 2)\n",
    "#  1st order wrt U'\n",
    "diff_dm = round(dm_fin - dm_in, 2)\n",
    "C_const_1 = diff_dm / d\n",
    "C_1 = C_const_1 * u_prime\n",
    "#  Total Capacitance\n",
    "c_total = C_0 + C_1 #  Total Capacitance\n",
    "# Free Energy Change to correct Model 1B with Charging\n",
    "g_2a = g_1b + c_total\n",
    "\n",
    "\n",
    "\n",
    "#Model 2B: Incorporating Dipole-Field Terms\n",
    "dm_0 = 2 * C_0\n",
    "dm_1 = u_prime * C_const_1\n",
    "dm_total = dm_0 + dm_1\n",
    "# Calculate G_2B to correct Model 2A with dipole-field terms\n",
    "g_2b = g_2a + dm_total\n",
    "\n",
    "\n",
    "\n",
    "#Model 2C: Incorporating Polarizability (Induced Dipole-Field Terms)\n",
    "diff_dm_polar_sq = (polar_fin*(dm_fin)*dm_fin-polar_in*dm_in*dm_in)\n",
    "diff_a_dm = polar_fin*dm_fin-polar_in*dm_in\n",
    "# Polarizability 0th order\n",
    "p_0_d = 2*(e**2)*(a**2)*(d**2)\n",
    "p_0 = diff_dm_polar_sq/p_0_d\n",
    "# Polarizability 1st order\n",
    "p_1_d=e*a*d**2\n",
    "p_1 = -u_prime*diff_a_dm/p_1_d\n",
    "# Polarizability 2nd order\n",
    "p_2 = 0.5*(u_prime**2)*(diff_polar)*(1/d)*(1/d)\n",
    "# Polarizability total\n",
    "p_total = p_0 + p_1 + p_2 \n",
    "#Calculate G_2C\n",
    "g_2c=g_2b+p_total"
   ]
  },
  {
   "cell_type": "markdown",
   "id": "5dcfacf3",
   "metadata": {},
   "source": [
    "### Free Energy vs Potential for different EDL Models"
   ]
  },
  {
   "cell_type": "code",
   "execution_count": 8,
   "id": "37d61eb0",
   "metadata": {
    "scrolled": false
   },
   "outputs": [
    {
     "data": {
      "image/png": "[encoded data removed]",
      "text/plain": [
       "<Figure size 432x288 with 1 Axes>"
      ]
     },
     "metadata": {
      "needs_background": "light"
     },
     "output_type": "display_data"
    },
    {
     "name": "stdout",
     "output_type": "stream",
     "text": [
      "Dielectric Constant = 2.00 EDL Width = 3.00  A \n",
      "Dipole Moment Change = -1.00 Polarizability Change = 0.50\n",
      "+---------+------------------------------+\n",
      "| Model   | Delta_G vs U-Upzc Equation   |\n",
      "+=========+==============================+\n",
      "| 1B      | 1.00U'+-0.60                 |\n",
      "+---------+------------------------------+\n",
      "| 2A      | 0.67U'+-1.35                 |\n",
      "+---------+------------------------------+\n",
      "| 2B      | 0.33U'+-2.86                 |\n",
      "+---------+------------------------------+\n",
      "| 2C      | 0.03U'^2+0.58U'+-2.29        |\n",
      "+---------+------------------------------+\n"
     ]
    }
   ],
   "source": [
    "#Calculate the roots\n",
    "Model =['1b','2a','2b']\n",
    "for i in Model:\n",
    "    globals()['TL_'+i]=np.polyfit(u_prime,globals()['g_'+i],1) #Solve coefficents\n",
    "    globals()['TL_'+i+'_1'] = np.poly1d(globals()['TL_'+i]) #Put coefficients into a polynomial\n",
    "\n",
    "\n",
    "#2c model\n",
    "TL_2c = np.polyfit(u_prime,g_2c,2)\n",
    "TL_2c_1 = np.poly1d(TL_2c)\n",
    "\n",
    "\n",
    "# Create Figure\n",
    "fig= plt.figure()\n",
    "ap2=fig.add_subplot(111) #rows,columns,subgraph\n",
    "ap2.plot(u_prime,TL_1b_1(u_prime),c='k',label=\"Model 1B:No EDL\")\n",
    "ap2.plot(u_prime,TL_2a_1(u_prime),c='r',label=\"Model 2A:C\")\n",
    "ap2.plot(u_prime,TL_2b_1(u_prime),c='b',label=\"Model 2B:C+Mu\")\n",
    "ap2.plot(u_prime,TL_2c_1(u_prime),c='g',label=\"Model 2C:C+Mu+Alpha\")\n",
    "\n",
    "#Figure Parameters\n",
    "plt.legend(loc='best')\n",
    "plt.xlabel('U-Upzc (V-NHE)', fontweight = 'bold', fontsize = 12)\n",
    "plt.ylabel('Free Energy Change (eV)', fontweight = 'bold', fontsize = 12)\n",
    "plt.title('Effects of EDL Complexities on Free Energy Change', fontweight = 'bold', fontsize = 12)\n",
    "plt.axis([u_prime[0],u_prime[-1],g_1b[0]-0.5,g_1b[-1]+0.5])\n",
    "\n",
    "plt.text(0.25 + u_prime[-1], g_1b[-1]-0.1, \"Dipole Moment Change = \" + str(round(diff_dm, 2)) + \"eÅ\")\n",
    "plt.text(0.25 + u_prime[-1], g_1b[-1]-0.3, \"Polarizability Change = \" + str(round(diff_polar, 2)) + \"eÅ^2/V\")\n",
    "plt.text(0.25+u_prime[-1],g_1b[-1]-0.5,\"Dielectric Constant = \"+str(er))\n",
    "plt.text(0.25+u_prime[-1],g_1b[-1]-0.7,\"EDL width = \" +str(d) + \" Å\")\n",
    "plt.text(0.25+u_prime[-1],g_1b[-1]-0.9,\"Upzc = \" +str(round(u_pzc, 2)) + \" V-NHE\")\n",
    "plt.text(0.25+u_prime[-1],g_1b[-1]-1.3,\"Delta_G=%.2fU'+%.2f\"%(TL_1b[0],TL_1b[1]),c='k')\n",
    "plt.text(0.25+u_prime[-1],g_1b[-1]-1.5,\"Delta_G=%.2fU'+%.2f\"%(TL_2a[0],TL_2a[1]),c='r')\n",
    "plt.text(0.25+u_prime[-1],g_1b[-1]-1.7,\"Delta_G=%.2fU'+%.2f\"%(TL_2b[0],TL_2b[1]),c='b')\n",
    "plt.text(0.25+u_prime[-1],g_1b[-1]-1.9,\"Delta_G=%.2fU'^2+%.2fU'+%.2f\"%(TL_2c[0],TL_2c[1],TL_2c[2]),c='g')\n",
    "\n",
    "plt.show()\n",
    "\n",
    "print(\"Dielectric Constant =\",\"{:.2f}\".format(er), \"EDL Width =\",\"{:.2f}\".format(d),\" A \")\n",
    "print(\"Dipole Moment Change =\",\"{:.2f}\".format(diff_dm), \"Polarizability Change =\",\"{:.2f}\".format(diff_polar))\n",
    "table_U0 = [['Model','Delta_G vs U-Upzc Equation'],['1B',\"%.2fU'+%.2f\"%(TL_1b[0],TL_1b[1])],['2A',\"%.2fU'+%.2f\"%(TL_2a[0],TL_2a[1])],['2B',\"%.2fU'+%.2f\"%(TL_2b[0],TL_2b[1])],['2C',\"%.2fU'^2+%.2fU'+%.2f\"%(TL_2c[0],TL_2c[1],TL_2c[2])]]\n",
    "print(tb(table_U0,headers='firstrow',tablefmt = 'grid'))\n"
   ]
  },
  {
   "cell_type": "markdown",
   "id": "227701de",
   "metadata": {},
   "source": [
    "### Compartmentalizing EDL Complexities as a Function of Electrode Potential "
   ]
  },
  {
   "cell_type": "code",
   "execution_count": 9,
   "id": "facdd3bf",
   "metadata": {
    "scrolled": false
   },
   "outputs": [
    {
     "data": {
      "image/png": "[encoded data removed]",
      "text/plain": [
       "<Figure size 432x288 with 1 Axes>"
      ]
     },
     "metadata": {
      "needs_background": "light"
     },
     "output_type": "display_data"
    }
   ],
   "source": [
    "\n",
    "plt.bar(u_prime,c_total,0.075,label=\"Capacitance\",color='red')\n",
    "plt.bar(u_prime,dm_total,0.075,bottom=c_total,label=\"Dipole-Field\",color='blue')\n",
    "plt.bar(u_prime,p_total,0.075,bottom=[c_total[i] + dm_total[i] for i in range(len(dm_total))],label=\"Polarizability\",color='green')\n",
    "#plt.bar(u_prime,p_total,0.075,label=\"Polarizability\",color='green')\n",
    "plt.legend(loc='best')\n",
    "plt.xlabel(\"U-Upzc (V-NHE)\", fontweight = 'bold', fontsize = 12)\n",
    "plt.ylabel(\"Free Energy Change(eV)\", fontweight = 'bold', fontsize = 12)\n",
    "plt.title(\"Contribution of Electrification within the EDL\" , fontweight = 'bold', fontsize = 12)\n",
    "total = np.abs(c_total) + np.abs(dm_total) + np.abs(p_total)\n",
    "#plt.xlim([u_prime[0]-0.5,u_prime[-1]+0.5])\n",
    "\n",
    "\n",
    "#plt.text(0.25 + u_prime[-1], g_1b[-1]-0.1, \"Dipole Moment Change = \" + str(round(diff_dm, 2)) + \"eA\")\n",
    "#plt.text(0.25 + u_prime[-1], g_1b[-1]-0.3, \"Polarizability Change = \" + str(round(diff_polar, 2)) + \"eA^2/V\")\n",
    "#plt.text(0.25+u_prime[-1],g_1b[-1]-0.5,\"Dielectric Constant = \"+str(er))\n",
    "#plt.text(0.25+u_prime[-1],g_1b[-1]-0.7,\"EDL width = \" +str(d) + \" A\")\n",
    "#plt.text(0.25+u_prime[-1],g_1b[-1]-0.9,\"Upzc = \" +str(round(u_pzc, 2)) + \" V-NHE\")"
   ]
  },
  {
   "cell_type": "markdown",
   "id": "c8e8a1bf",
   "metadata": {},
   "source": [
    "# Sensitivity Analysis due to Dielectric Constant and Width of EDL"
   ]
  },
  {
   "cell_type": "code",
   "execution_count": 10,
   "id": "2db1a643",
   "metadata": {
    "scrolled": true
   },
   "outputs": [],
   "source": [
    "def plot_2c(er=1,d=1):\n",
    "    #Model 2A: Incorporate Capacitance Charge\n",
    "    C = er*a*e_vac/d # Predicted Capacitiance by Helmholtz Model\n",
    "    diff_dm_sq = (dm_fin ** 2 - dm_in ** 2) \n",
    "    # 0th order capacitance\n",
    "    C_0 = -0.5 * (diff_dm_sq) / (C * d ** 2)\n",
    "    #  1st order wrt U'\n",
    "    diff_dm = round(dm_fin - dm_in, 2)\n",
    "    C_const_1 = diff_dm / d\n",
    "    C_1 = C_const_1 * u_prime\n",
    "    #  Total Capacitance\n",
    "    c_total = C_0 + C_1 #  Total Capacitance\n",
    "    # Free Energy Change to correct Model 1B with Charging\n",
    "    g_2a = g_1b + c_total\n",
    "\n",
    "    #Model 2B: Incorporating Dipole-Field Terms\n",
    "    dm_0 = 2 * C_0\n",
    "    dm_1 = u_prime * C_const_1\n",
    "    dm_total = dm_0 + dm_1\n",
    "    # Calculate G_2B to correct Model 2A with dipole-field terms\n",
    "    g_2b = g_2a + dm_total\n",
    "\n",
    "    #Model 2C: Incorporating Polarizability (Induced Dipole-Field Terms)\n",
    "    diff_dm_polar_sq = (polar_fin*(dm_fin)*dm_fin-polar_in*dm_in*dm_in)\n",
    "    diff_a_dm = polar_fin*dm_fin-polar_in*dm_in\n",
    "    # Polarizability 0th order\n",
    "    p_0_d = 2*(e**2)*(a**2)*(d**2)\n",
    "    p_0 = diff_dm_polar_sq/p_0_d\n",
    "    # Polarizability 1st order\n",
    "    p_1_d=e*a*d**2\n",
    "    p_1 = -u_prime*diff_a_dm/p_1_d\n",
    "    # Polarizability 2nd order\n",
    "    p_2 = 0.5*(u_prime**2)*(diff_polar)*(1/d)*(1/d)\n",
    "    # Polarizability total\n",
    "    p_total = p_0 + p_1 + p_2 \n",
    "    #Calculate G_2C\n",
    "    g_2c=g_2b+p_total\n",
    "\n",
    "\n",
    "    # Sensitivity Plot\n",
    "    # Plot scatter point at Equilibrium Potential\n",
    "    # Plot Scatter at U_pzc\n",
    "    plt.figure(figsize=(10, 8))\n",
    "    plt.plot(u_prime, g_2c)\n",
    "    plt.plot(u_prime,[0]*len(u_prime),'r--',label='Free Energy Change = 0 eV')\n",
    "    plt.title('Sensitivity to approximation of EDL width and Dielectric Constant',fontweight = 'bold', fontsize = 16)\n",
    "    plt.xlabel('U-Upzc (V-NHE)')\n",
    "    plt.ylabel('Free Energy Change (eV)')\n",
    "    plt.grid(True, linestyle='--', linewidth=0.5, color='gray', alpha=0.5)\n",
    "    #plt.ylim(g_2c[0],g_2c[-1])\n",
    "    #plt.yticks(np.arange(round(g_2c[0]), round(g_2c[-1])))\n",
    "\n",
    "    plt.legend()\n",
    "    \n",
    "\n"
   ]
  },
  {
   "cell_type": "code",
   "execution_count": 11,
   "id": "c837dcaa",
   "metadata": {
    "scrolled": false
   },
   "outputs": [
    {
     "data": {
      "application/vnd.jupyter.widget-view+json": {
       "model_id": "4d05f0688a284ff89e06a71410cc4ba1",
       "version_major": 2,
       "version_minor": 0
      },
      "text/plain": [
       "interactive(children=(FloatSlider(value=1.0, description='er', max=78.5, min=1.0, step=0.5), FloatSlider(value…"
      ]
     },
     "metadata": {},
     "output_type": "display_data"
    },
    {
     "data": {
      "text/plain": [
       "<function __main__.plot_2c(er=1, d=1)>"
      ]
     },
     "execution_count": 11,
     "metadata": {},
     "output_type": "execute_result"
    }
   ],
   "source": [
    "import ipywidgets as widgets\n",
    "ipywidgets.interact(plot_2c,er=(1,78.5,0.5),d=(1,50,0.5))"
   ]
  },
  {
   "cell_type": "markdown",
   "id": "a689dc62",
   "metadata": {},
   "source": [
    "# Beta Calculator as a function of EDL Width"
   ]
  },
  {
   "cell_type": "code",
   "execution_count": 18,
   "id": "7be1d9b6",
   "metadata": {},
   "outputs": [
    {
     "name": "stdout",
     "output_type": "stream",
     "text": [
      "The history saving thread hit an unexpected error (OperationalError('database or disk is full')).History will not be written to the database.\n"
     ]
    }
   ],
   "source": [
    "\n",
    "def beta_plot(d_int=1):\n",
    "    beta_avg_values = []\n",
    "    d_range = np.linspace(1,20,33)\n",
    "    if diff_dm > 0:\n",
    "        for d in d_range:\n",
    "            e = 1  # absolute charge of one electron\n",
    "            a_beta = diff_polar / (2 * d ** 2)\n",
    "            b_beta = 2 * diff_dm / d - (dm_in * diff_polar) / (e * a * d ** 2)\n",
    "            beta = b_beta + 2 * a_beta * u_prime  # eq 31 calculate as function of U wrt to Upzc\n",
    "            beta_avg = sum(beta) / len(beta)\n",
    "            beta_avg_values.append(beta_avg)         \n",
    "    else:\n",
    "        for d in d_range:\n",
    "            e = 1  # absolute charge of one electron\n",
    "            a_beta = diff_polar/ (2 * d ** 2)\n",
    "            b_beta = 1 + 2 * diff_dm / d - (dm_in * diff_polar) / (e * a * d ** 2)\n",
    "            beta = b_beta + 2 * a_beta * u_prime  # eq 31 calculate as function of U wrt to Upzc\n",
    "            beta_avg = sum(beta) / len(beta)\n",
    "            beta_avg_values.append(beta_avg)\n",
    "    if diff_dm > 0:\n",
    "        e = 1  # absolute charge of one electron\n",
    "        a_beta_int = diff_polar / (2 * d_int ** 2)\n",
    "        b_beta_int = 2 * diff_dm / d_int - (dm_in * diff_polar) / (e * a * d_int ** 2)\n",
    "        beta_int = b_beta_int + 2 * a_beta_int * u_prime  # eq 31 calculate as function of U wrt to Upzc\n",
    "        beta_avg_int = sum(beta_int) / len(beta_int)\n",
    "        #beta_avg_values_int.append(beta_avg_int)         \n",
    "    else:\n",
    "        e = 1  # absolute charge of one electron\n",
    "        a_beta_int = diff_polar/ (2 * d_int ** 2)\n",
    "        b_beta_int = 1 + 2 * diff_dm / d_int - (dm_in * diff_polar) / (e * a * d_int ** 2)\n",
    "        beta_int = b_beta_int + 2 * a_beta_int * u_prime  # eq 31 calculate as function of U wrt to Upzc\n",
    "        beta_avg_int = sum(beta_int) / len(beta_int)\n",
    "        #beta_avg_values_int.append(beta_avg_int)       \n",
    "\n",
    "\n",
    "\n",
    "    # plot the results\n",
    "    plt.figure(figsize=(10, 8))\n",
    "    plt.scatter(d_int,beta_avg_int,color='red',label = 'Predicted Beta')\n",
    "    plt.plot(d_range, beta_avg_values, label='Beta', color = 'blue')\n",
    "    plt.plot([d_int,d_int],[0,beta_avg_int],\"r--\")\n",
    "    plt.plot([0,d_int],[beta_avg_int,beta_avg_int],\"r--\")\n",
    "    plt.title('Dependence of Beta on Estimated EDL Width',fontweight = 'bold', fontsize = 16)\n",
    "    plt.legend(loc='lower right')\n",
    "    plt.xlabel('Width of the EDL (Å)',fontsize=20)\n",
    "    plt.ylabel('Net Electron Transfer (e)',fontsize=20)\n",
    "    plt.xlim(d_range[0],d_range[-1])\n",
    "    plt.xticks(np.arange(min(d_range), max(d_range), 1))\n",
    "    plt.ylim(0,1)\n",
    "    plt.tick_params(axis='x', labelsize=20)\n",
    "    plt.tick_params(axis='y', labelsize=16)\n",
    "    plt.yticks(np.arange(0, 1.05, step=0.05))\n",
    "    plt.text(d_range[-1]+1,0.65,  'UPZC='+str(round(u_pzc,2))+'V-NHE', fontsize=18)\n",
    "    plt.text(d_range[-1]+1,0.6, 'Dipole Moment Change='+str(round(diff_dm,2))+'eÅ', fontsize=18)\n",
    "    plt.text(d_range[-1]+1,0.55, 'Beta ='+str(round(beta_avg_int,2))+' at EDL Width ='+str(round(d_int,2))+'Å', fontsize=18)\n",
    "    plt.grid(True, linestyle='--', linewidth=0.5, color='gray', alpha=0.5)\n",
    "    plt.show()\n",
    "    \n",
    "    \n",
    "    # Combine the lists into a list of lists\n",
    "    data = [list(x) for x in zip(d_range, beta_avg_values)]\n",
    "\n",
    "    # Define the headers for the table\n",
    "    headers = [\"d\", \"beta\", \"EV_2B\"]\n",
    "\n",
    "    # Print the table\n",
    "    print(tb(data, headers=headers))\n",
    "\n"
   ]
  },
  {
   "cell_type": "code",
   "execution_count": 19,
   "id": "100c5b74",
   "metadata": {
    "scrolled": false
   },
   "outputs": [
    {
     "data": {
      "application/vnd.jupyter.widget-view+json": {
       "model_id": "5ac1e6c9120a440c9a8ee93e493ec4a1",
       "version_major": 2,
       "version_minor": 0
      },
      "text/plain": [
       "interactive(children=(FloatSlider(value=1.0, description='d_int', max=20.0, min=1.0, step=0.125), Output()), _…"
      ]
     },
     "metadata": {},
     "output_type": "display_data"
    },
    {
     "data": {
      "text/plain": [
       "<function __main__.beta_plot(d_int=1)>"
      ]
     },
     "execution_count": 19,
     "metadata": {},
     "output_type": "execute_result"
    }
   ],
   "source": [
    "import ipywidgets as widgets\n",
    "ipywidgets.interact(beta_plot,d_int=(1,20,0.125)) #d_int=(min,max, interval)"
   ]
  },
  {
   "cell_type": "markdown",
   "id": "c0553ec6",
   "metadata": {},
   "source": [
    "## Export Data as SpreadSheet via gui prompt"
   ]
  },
  {
   "cell_type": "code",
   "execution_count": 20,
   "id": "74a4c1b6",
   "metadata": {},
   "outputs": [
    {
     "name": "stdout",
     "output_type": "stream",
     "text": [
      "Window will be a boring gray. Try removing the theme call entirely\n",
      " You will get the default theme or the one set in global settings\n",
      "If you seriously want this gray window and no more nagging, add  theme('DefaultNoMoreNagging')  or theme('Gray Gray Gray') for completely gray/System Defaults\n"
     ]
    }
   ],
   "source": [
    "# Define the layout for the window\n",
    "sg.theme('Default')  # Add some color to the window\n",
    "layout = [\n",
    "    [sg.Text('Would you like to export your data into an Excel sheet?', size=(50, 1), justification='center',\n",
    "             font=('Helvetica', 20, 'bold'))],\n",
    "    [\n",
    "        sg.Column([\n",
    "            [sg.Button('Yes', size=(30, 3), button_color=('white', 'green'), pad=(70, 15))]\n",
    "        ]),\n",
    "        sg.VerticalSeparator(pad=((20, 20), (10, 10))),\n",
    "        sg.Column([\n",
    "            [sg.Button('No', size=(30, 3), button_color=('white', 'red'), pad=(70, 15))]\n",
    "        ]),\n",
    "    ],\n",
    "]\n",
    "\n",
    "# Create the window\n",
    "window = sg.Window('Window Title', layout, size=(900, 200), element_justification='c')\n",
    "\n",
    "# Event loop to process events and get input\n",
    "while True:\n",
    "    event, values = window.read()\n",
    "    if event == sg.WINDOW_CLOSED or event == 'No':\n",
    "        break\n",
    "    elif event == 'Yes':\n",
    "        # Create a dictionary from the data arrays\n",
    "        data_dict = {'U (V-NHE)': u, 'U-Upzc (V-NHE)': u_prime, 'G_1B (V-NHE)': g_1b, 'G_2A (V-NHE)': g_2a,\n",
    "                     'G_2B (V-NHE)': g_2b, 'G_2C (V-NHE)': g_2c,'dielectric constant': er,'EDL width': d}\n",
    "\n",
    "        # Create a DataFrame from the dictionary\n",
    "        df = pd.DataFrame(data_dict)\n",
    "\n",
    "        # Specify the file path for the Excel file\n",
    "        file_name = 'EDL_Data_Reduction.xlsx'\n",
    "\n",
    "        # Export the DataFrame to the specified path\n",
    "        df.to_excel(file_name, index=False)\n",
    "\n",
    "        # Show a message box to indicate successful export\n",
    "        sg.popup('Data exported to EDLData.xlsx')\n",
    "\n",
    "        break\n",
    "\n",
    "# Close the window\n",
    "window.close()\n"
   ]
  }
 ],
 "metadata": {
  "kernelspec": {
   "display_name": "Python 3 (ipykernel)",
   "language": "python",
   "name": "python3"
  },
  "language_info": {
   "codemirror_mode": {
    "name": "ipython",
    "version": 3
   },
   "file_extension": ".py",
   "mimetype": "text/x-python",
   "name": "python",
   "nbconvert_exporter": "python",
   "pygments_lexer": "ipython3",
   "version": "3.9.12"
  }
 },
 "nbformat": 4,
 "nbformat_minor": 5
}
